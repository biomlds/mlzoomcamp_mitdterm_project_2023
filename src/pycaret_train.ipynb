{
 "cells": [
  {
   "cell_type": "code",
   "execution_count": 1,
   "metadata": {},
   "outputs": [
    {
     "name": "stderr",
     "output_type": "stream",
     "text": [
      "Intel(R) Extension for Scikit-learn* enabled (https://github.com/intel/scikit-learn-intelex)\n"
     ]
    }
   ],
   "source": [
    "import os\n",
    "import pycaret\n",
    "import seaborn as sns\n",
    "import pandas as pd\n",
    "import matplotlib.pyplot as plt\n",
    "from sklearnex import patch_sklearn\n",
    "patch_sklearn()\n",
    "from pycaret.classification import *"
   ]
  },
  {
   "cell_type": "markdown",
   "metadata": {},
   "source": [
    "#### Load data"
   ]
  },
  {
   "cell_type": "code",
   "execution_count": 2,
   "metadata": {},
   "outputs": [
    {
     "data": {
      "text/plain": [
       "(159256, 24)"
      ]
     },
     "execution_count": 2,
     "metadata": {},
     "output_type": "execute_result"
    }
   ],
   "source": [
    "train = pd.read_csv('../data/train.csv')\n",
    "train.shape"
   ]
  },
  {
   "cell_type": "markdown",
   "metadata": {},
   "source": [
    "#### Check data stats, missing values"
   ]
  },
  {
   "cell_type": "code",
   "execution_count": 3,
   "metadata": {},
   "outputs": [
    {
     "data": {
      "text/html": [
       "<div>\n",
       "<style scoped>\n",
       "    .dataframe tbody tr th:only-of-type {\n",
       "        vertical-align: middle;\n",
       "    }\n",
       "\n",
       "    .dataframe tbody tr th {\n",
       "        vertical-align: top;\n",
       "    }\n",
       "\n",
       "    .dataframe thead th {\n",
       "        text-align: right;\n",
       "    }\n",
       "</style>\n",
       "<table border=\"1\" class=\"dataframe\">\n",
       "  <thead>\n",
       "    <tr style=\"text-align: right;\">\n",
       "      <th></th>\n",
       "      <th>count</th>\n",
       "      <th>mean</th>\n",
       "      <th>std</th>\n",
       "      <th>min</th>\n",
       "      <th>25%</th>\n",
       "      <th>50%</th>\n",
       "      <th>75%</th>\n",
       "      <th>max</th>\n",
       "    </tr>\n",
       "  </thead>\n",
       "  <tbody>\n",
       "    <tr>\n",
       "      <th>id</th>\n",
       "      <td>159256.0</td>\n",
       "      <td>79627.500000</td>\n",
       "      <td>45973.391572</td>\n",
       "      <td>0.0</td>\n",
       "      <td>39813.75</td>\n",
       "      <td>79627.5</td>\n",
       "      <td>119441.25</td>\n",
       "      <td>159255.0</td>\n",
       "    </tr>\n",
       "    <tr>\n",
       "      <th>age</th>\n",
       "      <td>159256.0</td>\n",
       "      <td>44.306626</td>\n",
       "      <td>11.842286</td>\n",
       "      <td>20.0</td>\n",
       "      <td>40.00</td>\n",
       "      <td>40.0</td>\n",
       "      <td>55.00</td>\n",
       "      <td>85.0</td>\n",
       "    </tr>\n",
       "    <tr>\n",
       "      <th>height(cm)</th>\n",
       "      <td>159256.0</td>\n",
       "      <td>165.266929</td>\n",
       "      <td>8.818970</td>\n",
       "      <td>135.0</td>\n",
       "      <td>160.00</td>\n",
       "      <td>165.0</td>\n",
       "      <td>170.00</td>\n",
       "      <td>190.0</td>\n",
       "    </tr>\n",
       "    <tr>\n",
       "      <th>weight(kg)</th>\n",
       "      <td>159256.0</td>\n",
       "      <td>67.143662</td>\n",
       "      <td>12.586198</td>\n",
       "      <td>30.0</td>\n",
       "      <td>60.00</td>\n",
       "      <td>65.0</td>\n",
       "      <td>75.00</td>\n",
       "      <td>130.0</td>\n",
       "    </tr>\n",
       "    <tr>\n",
       "      <th>waist(cm)</th>\n",
       "      <td>159256.0</td>\n",
       "      <td>83.001990</td>\n",
       "      <td>8.957937</td>\n",
       "      <td>51.0</td>\n",
       "      <td>77.00</td>\n",
       "      <td>83.0</td>\n",
       "      <td>89.00</td>\n",
       "      <td>127.0</td>\n",
       "    </tr>\n",
       "    <tr>\n",
       "      <th>eyesight(left)</th>\n",
       "      <td>159256.0</td>\n",
       "      <td>1.005798</td>\n",
       "      <td>0.402113</td>\n",
       "      <td>0.1</td>\n",
       "      <td>0.80</td>\n",
       "      <td>1.0</td>\n",
       "      <td>1.20</td>\n",
       "      <td>9.9</td>\n",
       "    </tr>\n",
       "    <tr>\n",
       "      <th>eyesight(right)</th>\n",
       "      <td>159256.0</td>\n",
       "      <td>1.000989</td>\n",
       "      <td>0.392299</td>\n",
       "      <td>0.1</td>\n",
       "      <td>0.80</td>\n",
       "      <td>1.0</td>\n",
       "      <td>1.20</td>\n",
       "      <td>9.9</td>\n",
       "    </tr>\n",
       "    <tr>\n",
       "      <th>hearing(left)</th>\n",
       "      <td>159256.0</td>\n",
       "      <td>1.023974</td>\n",
       "      <td>0.152969</td>\n",
       "      <td>1.0</td>\n",
       "      <td>1.00</td>\n",
       "      <td>1.0</td>\n",
       "      <td>1.00</td>\n",
       "      <td>2.0</td>\n",
       "    </tr>\n",
       "    <tr>\n",
       "      <th>hearing(right)</th>\n",
       "      <td>159256.0</td>\n",
       "      <td>1.023421</td>\n",
       "      <td>0.151238</td>\n",
       "      <td>1.0</td>\n",
       "      <td>1.00</td>\n",
       "      <td>1.0</td>\n",
       "      <td>1.00</td>\n",
       "      <td>2.0</td>\n",
       "    </tr>\n",
       "    <tr>\n",
       "      <th>systolic</th>\n",
       "      <td>159256.0</td>\n",
       "      <td>122.503648</td>\n",
       "      <td>12.729315</td>\n",
       "      <td>77.0</td>\n",
       "      <td>114.00</td>\n",
       "      <td>121.0</td>\n",
       "      <td>130.00</td>\n",
       "      <td>213.0</td>\n",
       "    </tr>\n",
       "    <tr>\n",
       "      <th>relaxation</th>\n",
       "      <td>159256.0</td>\n",
       "      <td>76.874071</td>\n",
       "      <td>8.994642</td>\n",
       "      <td>44.0</td>\n",
       "      <td>70.00</td>\n",
       "      <td>78.0</td>\n",
       "      <td>82.00</td>\n",
       "      <td>133.0</td>\n",
       "    </tr>\n",
       "    <tr>\n",
       "      <th>fasting blood sugar</th>\n",
       "      <td>159256.0</td>\n",
       "      <td>98.352552</td>\n",
       "      <td>15.329740</td>\n",
       "      <td>46.0</td>\n",
       "      <td>90.00</td>\n",
       "      <td>96.0</td>\n",
       "      <td>103.00</td>\n",
       "      <td>375.0</td>\n",
       "    </tr>\n",
       "    <tr>\n",
       "      <th>Cholesterol</th>\n",
       "      <td>159256.0</td>\n",
       "      <td>195.796165</td>\n",
       "      <td>28.396959</td>\n",
       "      <td>77.0</td>\n",
       "      <td>175.00</td>\n",
       "      <td>196.0</td>\n",
       "      <td>217.00</td>\n",
       "      <td>393.0</td>\n",
       "    </tr>\n",
       "    <tr>\n",
       "      <th>triglyceride</th>\n",
       "      <td>159256.0</td>\n",
       "      <td>127.616046</td>\n",
       "      <td>66.188989</td>\n",
       "      <td>8.0</td>\n",
       "      <td>77.00</td>\n",
       "      <td>115.0</td>\n",
       "      <td>165.00</td>\n",
       "      <td>766.0</td>\n",
       "    </tr>\n",
       "    <tr>\n",
       "      <th>HDL</th>\n",
       "      <td>159256.0</td>\n",
       "      <td>55.852684</td>\n",
       "      <td>13.964141</td>\n",
       "      <td>9.0</td>\n",
       "      <td>45.00</td>\n",
       "      <td>54.0</td>\n",
       "      <td>64.00</td>\n",
       "      <td>136.0</td>\n",
       "    </tr>\n",
       "    <tr>\n",
       "      <th>LDL</th>\n",
       "      <td>159256.0</td>\n",
       "      <td>114.607682</td>\n",
       "      <td>28.158931</td>\n",
       "      <td>1.0</td>\n",
       "      <td>95.00</td>\n",
       "      <td>114.0</td>\n",
       "      <td>133.00</td>\n",
       "      <td>1860.0</td>\n",
       "    </tr>\n",
       "    <tr>\n",
       "      <th>hemoglobin</th>\n",
       "      <td>159256.0</td>\n",
       "      <td>14.796965</td>\n",
       "      <td>1.431213</td>\n",
       "      <td>4.9</td>\n",
       "      <td>13.80</td>\n",
       "      <td>15.0</td>\n",
       "      <td>15.80</td>\n",
       "      <td>21.0</td>\n",
       "    </tr>\n",
       "    <tr>\n",
       "      <th>Urine protein</th>\n",
       "      <td>159256.0</td>\n",
       "      <td>1.074233</td>\n",
       "      <td>0.347856</td>\n",
       "      <td>1.0</td>\n",
       "      <td>1.00</td>\n",
       "      <td>1.0</td>\n",
       "      <td>1.00</td>\n",
       "      <td>6.0</td>\n",
       "    </tr>\n",
       "    <tr>\n",
       "      <th>serum creatinine</th>\n",
       "      <td>159256.0</td>\n",
       "      <td>0.892764</td>\n",
       "      <td>0.179346</td>\n",
       "      <td>0.1</td>\n",
       "      <td>0.80</td>\n",
       "      <td>0.9</td>\n",
       "      <td>1.00</td>\n",
       "      <td>9.9</td>\n",
       "    </tr>\n",
       "    <tr>\n",
       "      <th>AST</th>\n",
       "      <td>159256.0</td>\n",
       "      <td>25.516853</td>\n",
       "      <td>9.464882</td>\n",
       "      <td>6.0</td>\n",
       "      <td>20.00</td>\n",
       "      <td>24.0</td>\n",
       "      <td>29.00</td>\n",
       "      <td>778.0</td>\n",
       "    </tr>\n",
       "    <tr>\n",
       "      <th>ALT</th>\n",
       "      <td>159256.0</td>\n",
       "      <td>26.550296</td>\n",
       "      <td>17.753070</td>\n",
       "      <td>1.0</td>\n",
       "      <td>16.00</td>\n",
       "      <td>22.0</td>\n",
       "      <td>32.00</td>\n",
       "      <td>2914.0</td>\n",
       "    </tr>\n",
       "    <tr>\n",
       "      <th>Gtp</th>\n",
       "      <td>159256.0</td>\n",
       "      <td>36.216004</td>\n",
       "      <td>31.204643</td>\n",
       "      <td>2.0</td>\n",
       "      <td>18.00</td>\n",
       "      <td>27.0</td>\n",
       "      <td>44.00</td>\n",
       "      <td>999.0</td>\n",
       "    </tr>\n",
       "    <tr>\n",
       "      <th>dental caries</th>\n",
       "      <td>159256.0</td>\n",
       "      <td>0.197996</td>\n",
       "      <td>0.398490</td>\n",
       "      <td>0.0</td>\n",
       "      <td>0.00</td>\n",
       "      <td>0.0</td>\n",
       "      <td>0.00</td>\n",
       "      <td>1.0</td>\n",
       "    </tr>\n",
       "    <tr>\n",
       "      <th>smoking</th>\n",
       "      <td>159256.0</td>\n",
       "      <td>0.437365</td>\n",
       "      <td>0.496063</td>\n",
       "      <td>0.0</td>\n",
       "      <td>0.00</td>\n",
       "      <td>0.0</td>\n",
       "      <td>1.00</td>\n",
       "      <td>1.0</td>\n",
       "    </tr>\n",
       "  </tbody>\n",
       "</table>\n",
       "</div>"
      ],
      "text/plain": [
       "                        count          mean           std    min       25%  \\\n",
       "id                   159256.0  79627.500000  45973.391572    0.0  39813.75   \n",
       "age                  159256.0     44.306626     11.842286   20.0     40.00   \n",
       "height(cm)           159256.0    165.266929      8.818970  135.0    160.00   \n",
       "weight(kg)           159256.0     67.143662     12.586198   30.0     60.00   \n",
       "waist(cm)            159256.0     83.001990      8.957937   51.0     77.00   \n",
       "eyesight(left)       159256.0      1.005798      0.402113    0.1      0.80   \n",
       "eyesight(right)      159256.0      1.000989      0.392299    0.1      0.80   \n",
       "hearing(left)        159256.0      1.023974      0.152969    1.0      1.00   \n",
       "hearing(right)       159256.0      1.023421      0.151238    1.0      1.00   \n",
       "systolic             159256.0    122.503648     12.729315   77.0    114.00   \n",
       "relaxation           159256.0     76.874071      8.994642   44.0     70.00   \n",
       "fasting blood sugar  159256.0     98.352552     15.329740   46.0     90.00   \n",
       "Cholesterol          159256.0    195.796165     28.396959   77.0    175.00   \n",
       "triglyceride         159256.0    127.616046     66.188989    8.0     77.00   \n",
       "HDL                  159256.0     55.852684     13.964141    9.0     45.00   \n",
       "LDL                  159256.0    114.607682     28.158931    1.0     95.00   \n",
       "hemoglobin           159256.0     14.796965      1.431213    4.9     13.80   \n",
       "Urine protein        159256.0      1.074233      0.347856    1.0      1.00   \n",
       "serum creatinine     159256.0      0.892764      0.179346    0.1      0.80   \n",
       "AST                  159256.0     25.516853      9.464882    6.0     20.00   \n",
       "ALT                  159256.0     26.550296     17.753070    1.0     16.00   \n",
       "Gtp                  159256.0     36.216004     31.204643    2.0     18.00   \n",
       "dental caries        159256.0      0.197996      0.398490    0.0      0.00   \n",
       "smoking              159256.0      0.437365      0.496063    0.0      0.00   \n",
       "\n",
       "                         50%        75%       max  \n",
       "id                   79627.5  119441.25  159255.0  \n",
       "age                     40.0      55.00      85.0  \n",
       "height(cm)             165.0     170.00     190.0  \n",
       "weight(kg)              65.0      75.00     130.0  \n",
       "waist(cm)               83.0      89.00     127.0  \n",
       "eyesight(left)           1.0       1.20       9.9  \n",
       "eyesight(right)          1.0       1.20       9.9  \n",
       "hearing(left)            1.0       1.00       2.0  \n",
       "hearing(right)           1.0       1.00       2.0  \n",
       "systolic               121.0     130.00     213.0  \n",
       "relaxation              78.0      82.00     133.0  \n",
       "fasting blood sugar     96.0     103.00     375.0  \n",
       "Cholesterol            196.0     217.00     393.0  \n",
       "triglyceride           115.0     165.00     766.0  \n",
       "HDL                     54.0      64.00     136.0  \n",
       "LDL                    114.0     133.00    1860.0  \n",
       "hemoglobin              15.0      15.80      21.0  \n",
       "Urine protein            1.0       1.00       6.0  \n",
       "serum creatinine         0.9       1.00       9.9  \n",
       "AST                     24.0      29.00     778.0  \n",
       "ALT                     22.0      32.00    2914.0  \n",
       "Gtp                     27.0      44.00     999.0  \n",
       "dental caries            0.0       0.00       1.0  \n",
       "smoking                  0.0       1.00       1.0  "
      ]
     },
     "execution_count": 3,
     "metadata": {},
     "output_type": "execute_result"
    }
   ],
   "source": [
    "train.describe().T"
   ]
  },
  {
   "cell_type": "code",
   "execution_count": 4,
   "metadata": {},
   "outputs": [
    {
     "name": "stdout",
     "output_type": "stream",
     "text": [
      "<class 'pandas.core.frame.DataFrame'>\n",
      "RangeIndex: 159256 entries, 0 to 159255\n",
      "Data columns (total 24 columns):\n",
      " #   Column               Non-Null Count   Dtype  \n",
      "---  ------               --------------   -----  \n",
      " 0   id                   159256 non-null  int64  \n",
      " 1   age                  159256 non-null  int64  \n",
      " 2   height(cm)           159256 non-null  int64  \n",
      " 3   weight(kg)           159256 non-null  int64  \n",
      " 4   waist(cm)            159256 non-null  float64\n",
      " 5   eyesight(left)       159256 non-null  float64\n",
      " 6   eyesight(right)      159256 non-null  float64\n",
      " 7   hearing(left)        159256 non-null  int64  \n",
      " 8   hearing(right)       159256 non-null  int64  \n",
      " 9   systolic             159256 non-null  int64  \n",
      " 10  relaxation           159256 non-null  int64  \n",
      " 11  fasting blood sugar  159256 non-null  int64  \n",
      " 12  Cholesterol          159256 non-null  int64  \n",
      " 13  triglyceride         159256 non-null  int64  \n",
      " 14  HDL                  159256 non-null  int64  \n",
      " 15  LDL                  159256 non-null  int64  \n",
      " 16  hemoglobin           159256 non-null  float64\n",
      " 17  Urine protein        159256 non-null  int64  \n",
      " 18  serum creatinine     159256 non-null  float64\n",
      " 19  AST                  159256 non-null  int64  \n",
      " 20  ALT                  159256 non-null  int64  \n",
      " 21  Gtp                  159256 non-null  int64  \n",
      " 22  dental caries        159256 non-null  int64  \n",
      " 23  smoking              159256 non-null  int64  \n",
      "dtypes: float64(5), int64(19)\n",
      "memory usage: 29.2 MB\n"
     ]
    }
   ],
   "source": [
    "train.info()"
   ]
  },
  {
   "cell_type": "markdown",
   "metadata": {},
   "source": [
    "#### Pycaret will generate polynomial features. Let's add several extra features"
   ]
  },
  {
   "cell_type": "code",
   "execution_count": 5,
   "metadata": {},
   "outputs": [],
   "source": [
    "train['bmi'] = 10000*train['weight(kg)']/train['height(cm)']/train['height(cm)']\n",
    "train['liver_enz'] = train['AST'] + train['ALT'] + train['Gtp']\n",
    "train['totalDL'] = train['HDL'] + train['LDL']"
   ]
  },
  {
   "cell_type": "markdown",
   "metadata": {},
   "source": [
    "#### Check for categorical features"
   ]
  },
  {
   "cell_type": "code",
   "execution_count": 6,
   "metadata": {},
   "outputs": [
    {
     "name": "stdout",
     "output_type": "stream",
     "text": [
      "=============================================\n",
      "hearing(left)\n",
      "1    155438\n",
      "2      3818\n",
      "Name: hearing(left), dtype: int64\n",
      "=============================================\n",
      "hearing(right)\n",
      "1    155526\n",
      "2      3730\n",
      "Name: hearing(right), dtype: int64\n",
      "=============================================\n",
      "Urine protein\n",
      "1    150862\n",
      "2      5609\n",
      "3      2228\n",
      "4       477\n",
      "5        74\n",
      "6         6\n",
      "Name: Urine protein, dtype: int64\n",
      "=============================================\n",
      "dental caries\n",
      "0    127724\n",
      "1     31532\n",
      "Name: dental caries, dtype: int64\n",
      "=============================================\n",
      "smoking\n",
      "0    89603\n",
      "1    69653\n",
      "Name: smoking, dtype: int64\n",
      "=============================================\n"
     ]
    }
   ],
   "source": [
    "\n",
    "for ft in train.columns:\n",
    "    if len(train[ft].value_counts())<10:\n",
    "        print(45*'=')\n",
    "        print(ft,)\n",
    "        print(train[ft].value_counts())\n",
    "print(45*'=')\n",
    "        "
   ]
  },
  {
   "cell_type": "markdown",
   "metadata": {},
   "source": [
    "`dental caries` is the binary feature. The rest can be treated as numerical ones."
   ]
  },
  {
   "cell_type": "code",
   "execution_count": 7,
   "metadata": {},
   "outputs": [],
   "source": [
    "ignore_features = ['id']\n",
    "categorical_features = ['dental caries']\n",
    "TARGET = 'smoking'\n",
    "\n",
    "numeric_features = train.columns.values.tolist()\n",
    "for fetaure in categorical_features+ignore_features+[TARGET]:\n",
    "    numeric_features.remove(fetaure)\n",
    "\n"
   ]
  },
  {
   "cell_type": "markdown",
   "metadata": {},
   "source": [
    "#### Setup pycaret experiment"
   ]
  },
  {
   "cell_type": "code",
   "execution_count": 8,
   "metadata": {},
   "outputs": [
    {
     "data": {
      "text/html": [
       "<style type=\"text/css\">\n",
       "#T_6f595_row9_col1, #T_6f595_row13_col1, #T_6f595_row15_col1, #T_6f595_row17_col1 {\n",
       "  background-color: lightgreen;\n",
       "}\n",
       "</style>\n",
       "<table id=\"T_6f595\">\n",
       "  <thead>\n",
       "    <tr>\n",
       "      <th class=\"blank level0\" >&nbsp;</th>\n",
       "      <th id=\"T_6f595_level0_col0\" class=\"col_heading level0 col0\" >Description</th>\n",
       "      <th id=\"T_6f595_level0_col1\" class=\"col_heading level0 col1\" >Value</th>\n",
       "    </tr>\n",
       "  </thead>\n",
       "  <tbody>\n",
       "    <tr>\n",
       "      <th id=\"T_6f595_level0_row0\" class=\"row_heading level0 row0\" >0</th>\n",
       "      <td id=\"T_6f595_row0_col0\" class=\"data row0 col0\" >Session id</td>\n",
       "      <td id=\"T_6f595_row0_col1\" class=\"data row0 col1\" >111</td>\n",
       "    </tr>\n",
       "    <tr>\n",
       "      <th id=\"T_6f595_level0_row1\" class=\"row_heading level0 row1\" >1</th>\n",
       "      <td id=\"T_6f595_row1_col0\" class=\"data row1 col0\" >Target</td>\n",
       "      <td id=\"T_6f595_row1_col1\" class=\"data row1 col1\" >smoking</td>\n",
       "    </tr>\n",
       "    <tr>\n",
       "      <th id=\"T_6f595_level0_row2\" class=\"row_heading level0 row2\" >2</th>\n",
       "      <td id=\"T_6f595_row2_col0\" class=\"data row2 col0\" >Target type</td>\n",
       "      <td id=\"T_6f595_row2_col1\" class=\"data row2 col1\" >Binary</td>\n",
       "    </tr>\n",
       "    <tr>\n",
       "      <th id=\"T_6f595_level0_row3\" class=\"row_heading level0 row3\" >3</th>\n",
       "      <td id=\"T_6f595_row3_col0\" class=\"data row3 col0\" >Original data shape</td>\n",
       "      <td id=\"T_6f595_row3_col1\" class=\"data row3 col1\" >(159256, 27)</td>\n",
       "    </tr>\n",
       "    <tr>\n",
       "      <th id=\"T_6f595_level0_row4\" class=\"row_heading level0 row4\" >4</th>\n",
       "      <td id=\"T_6f595_row4_col0\" class=\"data row4 col0\" >Transformed data shape</td>\n",
       "      <td id=\"T_6f595_row4_col1\" class=\"data row4 col1\" >(175216, 351)</td>\n",
       "    </tr>\n",
       "    <tr>\n",
       "      <th id=\"T_6f595_level0_row5\" class=\"row_heading level0 row5\" >5</th>\n",
       "      <td id=\"T_6f595_row5_col0\" class=\"data row5 col0\" >Transformed train set shape</td>\n",
       "      <td id=\"T_6f595_row5_col1\" class=\"data row5 col1\" >(143364, 351)</td>\n",
       "    </tr>\n",
       "    <tr>\n",
       "      <th id=\"T_6f595_level0_row6\" class=\"row_heading level0 row6\" >6</th>\n",
       "      <td id=\"T_6f595_row6_col0\" class=\"data row6 col0\" >Transformed test set shape</td>\n",
       "      <td id=\"T_6f595_row6_col1\" class=\"data row6 col1\" >(31852, 351)</td>\n",
       "    </tr>\n",
       "    <tr>\n",
       "      <th id=\"T_6f595_level0_row7\" class=\"row_heading level0 row7\" >7</th>\n",
       "      <td id=\"T_6f595_row7_col0\" class=\"data row7 col0\" >Ignore features</td>\n",
       "      <td id=\"T_6f595_row7_col1\" class=\"data row7 col1\" >1</td>\n",
       "    </tr>\n",
       "    <tr>\n",
       "      <th id=\"T_6f595_level0_row8\" class=\"row_heading level0 row8\" >8</th>\n",
       "      <td id=\"T_6f595_row8_col0\" class=\"data row8 col0\" >Numeric features</td>\n",
       "      <td id=\"T_6f595_row8_col1\" class=\"data row8 col1\" >25</td>\n",
       "    </tr>\n",
       "    <tr>\n",
       "      <th id=\"T_6f595_level0_row9\" class=\"row_heading level0 row9\" >9</th>\n",
       "      <td id=\"T_6f595_row9_col0\" class=\"data row9 col0\" >Preprocess</td>\n",
       "      <td id=\"T_6f595_row9_col1\" class=\"data row9 col1\" >True</td>\n",
       "    </tr>\n",
       "    <tr>\n",
       "      <th id=\"T_6f595_level0_row10\" class=\"row_heading level0 row10\" >10</th>\n",
       "      <td id=\"T_6f595_row10_col0\" class=\"data row10 col0\" >Imputation type</td>\n",
       "      <td id=\"T_6f595_row10_col1\" class=\"data row10 col1\" >simple</td>\n",
       "    </tr>\n",
       "    <tr>\n",
       "      <th id=\"T_6f595_level0_row11\" class=\"row_heading level0 row11\" >11</th>\n",
       "      <td id=\"T_6f595_row11_col0\" class=\"data row11 col0\" >Numeric imputation</td>\n",
       "      <td id=\"T_6f595_row11_col1\" class=\"data row11 col1\" >mean</td>\n",
       "    </tr>\n",
       "    <tr>\n",
       "      <th id=\"T_6f595_level0_row12\" class=\"row_heading level0 row12\" >12</th>\n",
       "      <td id=\"T_6f595_row12_col0\" class=\"data row12 col0\" >Categorical imputation</td>\n",
       "      <td id=\"T_6f595_row12_col1\" class=\"data row12 col1\" >mode</td>\n",
       "    </tr>\n",
       "    <tr>\n",
       "      <th id=\"T_6f595_level0_row13\" class=\"row_heading level0 row13\" >13</th>\n",
       "      <td id=\"T_6f595_row13_col0\" class=\"data row13 col0\" >Polynomial features</td>\n",
       "      <td id=\"T_6f595_row13_col1\" class=\"data row13 col1\" >True</td>\n",
       "    </tr>\n",
       "    <tr>\n",
       "      <th id=\"T_6f595_level0_row14\" class=\"row_heading level0 row14\" >14</th>\n",
       "      <td id=\"T_6f595_row14_col0\" class=\"data row14 col0\" >Polynomial degree</td>\n",
       "      <td id=\"T_6f595_row14_col1\" class=\"data row14 col1\" >2</td>\n",
       "    </tr>\n",
       "    <tr>\n",
       "      <th id=\"T_6f595_level0_row15\" class=\"row_heading level0 row15\" >15</th>\n",
       "      <td id=\"T_6f595_row15_col0\" class=\"data row15 col0\" >Fix imbalance</td>\n",
       "      <td id=\"T_6f595_row15_col1\" class=\"data row15 col1\" >True</td>\n",
       "    </tr>\n",
       "    <tr>\n",
       "      <th id=\"T_6f595_level0_row16\" class=\"row_heading level0 row16\" >16</th>\n",
       "      <td id=\"T_6f595_row16_col0\" class=\"data row16 col0\" >Fix imbalance method</td>\n",
       "      <td id=\"T_6f595_row16_col1\" class=\"data row16 col1\" >SMOTE</td>\n",
       "    </tr>\n",
       "    <tr>\n",
       "      <th id=\"T_6f595_level0_row17\" class=\"row_heading level0 row17\" >17</th>\n",
       "      <td id=\"T_6f595_row17_col0\" class=\"data row17 col0\" >Normalize</td>\n",
       "      <td id=\"T_6f595_row17_col1\" class=\"data row17 col1\" >True</td>\n",
       "    </tr>\n",
       "    <tr>\n",
       "      <th id=\"T_6f595_level0_row18\" class=\"row_heading level0 row18\" >18</th>\n",
       "      <td id=\"T_6f595_row18_col0\" class=\"data row18 col0\" >Normalize method</td>\n",
       "      <td id=\"T_6f595_row18_col1\" class=\"data row18 col1\" >robust</td>\n",
       "    </tr>\n",
       "    <tr>\n",
       "      <th id=\"T_6f595_level0_row19\" class=\"row_heading level0 row19\" >19</th>\n",
       "      <td id=\"T_6f595_row19_col0\" class=\"data row19 col0\" >Fold Generator</td>\n",
       "      <td id=\"T_6f595_row19_col1\" class=\"data row19 col1\" >StratifiedKFold</td>\n",
       "    </tr>\n",
       "    <tr>\n",
       "      <th id=\"T_6f595_level0_row20\" class=\"row_heading level0 row20\" >20</th>\n",
       "      <td id=\"T_6f595_row20_col0\" class=\"data row20 col0\" >Fold Number</td>\n",
       "      <td id=\"T_6f595_row20_col1\" class=\"data row20 col1\" >5</td>\n",
       "    </tr>\n",
       "    <tr>\n",
       "      <th id=\"T_6f595_level0_row21\" class=\"row_heading level0 row21\" >21</th>\n",
       "      <td id=\"T_6f595_row21_col0\" class=\"data row21 col0\" >CPU Jobs</td>\n",
       "      <td id=\"T_6f595_row21_col1\" class=\"data row21 col1\" >-1</td>\n",
       "    </tr>\n",
       "    <tr>\n",
       "      <th id=\"T_6f595_level0_row22\" class=\"row_heading level0 row22\" >22</th>\n",
       "      <td id=\"T_6f595_row22_col0\" class=\"data row22 col0\" >Use GPU</td>\n",
       "      <td id=\"T_6f595_row22_col1\" class=\"data row22 col1\" >False</td>\n",
       "    </tr>\n",
       "    <tr>\n",
       "      <th id=\"T_6f595_level0_row23\" class=\"row_heading level0 row23\" >23</th>\n",
       "      <td id=\"T_6f595_row23_col0\" class=\"data row23 col0\" >Log Experiment</td>\n",
       "      <td id=\"T_6f595_row23_col1\" class=\"data row23 col1\" >False</td>\n",
       "    </tr>\n",
       "    <tr>\n",
       "      <th id=\"T_6f595_level0_row24\" class=\"row_heading level0 row24\" >24</th>\n",
       "      <td id=\"T_6f595_row24_col0\" class=\"data row24 col0\" >Experiment Name</td>\n",
       "      <td id=\"T_6f595_row24_col1\" class=\"data row24 col1\" >clf-default-name</td>\n",
       "    </tr>\n",
       "    <tr>\n",
       "      <th id=\"T_6f595_level0_row25\" class=\"row_heading level0 row25\" >25</th>\n",
       "      <td id=\"T_6f595_row25_col0\" class=\"data row25 col0\" >USI</td>\n",
       "      <td id=\"T_6f595_row25_col1\" class=\"data row25 col1\" >0131</td>\n",
       "    </tr>\n",
       "  </tbody>\n",
       "</table>\n"
      ],
      "text/plain": [
       "<pandas.io.formats.style.Styler at 0x7f2a1a232b90>"
      ]
     },
     "metadata": {},
     "output_type": "display_data"
    }
   ],
   "source": [
    "s = setup(train,\n",
    "            # numeric_features=numeric_features,\n",
    "            # categorical_features=categorical_features,\n",
    "            # ordinal_features=ordinal_features,\n",
    "            # bin_numeric_features = bin_numeric_features,\n",
    "            ignore_features=ignore_features,\n",
    "            # remove_multicollinearity=True,\n",
    "            # low_variance_threshold = 0.1,\n",
    "            train_size=0.8, \n",
    "            fold = 5,\n",
    "            normalize=True, \n",
    "            normalize_method='robust',\n",
    "            # transformation=True,  \n",
    "            polynomial_features=True, \n",
    "            polynomial_degree=2,\n",
    "            feature_selection_estimator=True,\n",
    "            fix_imbalance=True,\n",
    "            target = TARGET, \n",
    "            session_id = 111, \n",
    "            )\n"
   ]
  },
  {
   "cell_type": "markdown",
   "metadata": {},
   "source": [
    "#### Let's run a set of models and pick the best one"
   ]
  },
  {
   "cell_type": "code",
   "execution_count": 9,
   "metadata": {
    "scrolled": true
   },
   "outputs": [
    {
     "data": {
      "text/html": [],
      "text/plain": [
       "<IPython.core.display.HTML object>"
      ]
     },
     "metadata": {},
     "output_type": "display_data"
    },
    {
     "data": {
      "text/html": [
       "<style type=\"text/css\">\n",
       "#T_aa520 th {\n",
       "  text-align: left;\n",
       "}\n",
       "#T_aa520_row0_col0, #T_aa520_row0_col3, #T_aa520_row0_col5, #T_aa520_row1_col0, #T_aa520_row1_col1, #T_aa520_row1_col2, #T_aa520_row1_col3, #T_aa520_row1_col4, #T_aa520_row1_col6, #T_aa520_row1_col7, #T_aa520_row2_col0, #T_aa520_row2_col1, #T_aa520_row2_col2, #T_aa520_row2_col3, #T_aa520_row2_col4, #T_aa520_row2_col5, #T_aa520_row2_col6, #T_aa520_row2_col7, #T_aa520_row3_col0, #T_aa520_row3_col1, #T_aa520_row3_col2, #T_aa520_row3_col3, #T_aa520_row3_col4, #T_aa520_row3_col6, #T_aa520_row3_col7, #T_aa520_row4_col0, #T_aa520_row4_col1, #T_aa520_row4_col2, #T_aa520_row4_col3, #T_aa520_row4_col4, #T_aa520_row4_col5, #T_aa520_row4_col6, #T_aa520_row4_col7, #T_aa520_row5_col0, #T_aa520_row5_col1, #T_aa520_row5_col2, #T_aa520_row5_col3, #T_aa520_row5_col4, #T_aa520_row5_col5, #T_aa520_row5_col6, #T_aa520_row5_col7, #T_aa520_row6_col0, #T_aa520_row6_col1, #T_aa520_row6_col2, #T_aa520_row6_col4, #T_aa520_row6_col5, #T_aa520_row6_col6, #T_aa520_row6_col7, #T_aa520_row7_col0, #T_aa520_row7_col1, #T_aa520_row7_col2, #T_aa520_row7_col3, #T_aa520_row7_col4, #T_aa520_row7_col5, #T_aa520_row7_col6, #T_aa520_row7_col7, #T_aa520_row8_col0, #T_aa520_row8_col1, #T_aa520_row8_col2, #T_aa520_row8_col3, #T_aa520_row8_col4, #T_aa520_row8_col5, #T_aa520_row8_col6, #T_aa520_row8_col7, #T_aa520_row9_col0, #T_aa520_row9_col1, #T_aa520_row9_col2, #T_aa520_row9_col3, #T_aa520_row9_col4, #T_aa520_row9_col5, #T_aa520_row9_col6, #T_aa520_row9_col7, #T_aa520_row10_col0, #T_aa520_row10_col1, #T_aa520_row10_col2, #T_aa520_row10_col3, #T_aa520_row10_col4, #T_aa520_row10_col5, #T_aa520_row10_col6, #T_aa520_row10_col7, #T_aa520_row11_col0, #T_aa520_row11_col1, #T_aa520_row11_col2, #T_aa520_row11_col3, #T_aa520_row11_col4, #T_aa520_row11_col5, #T_aa520_row11_col6, #T_aa520_row11_col7, #T_aa520_row12_col0, #T_aa520_row12_col1, #T_aa520_row12_col2, #T_aa520_row12_col3, #T_aa520_row12_col4, #T_aa520_row12_col5, #T_aa520_row12_col6, #T_aa520_row12_col7, #T_aa520_row13_col0, #T_aa520_row13_col1, #T_aa520_row13_col2, #T_aa520_row13_col3, #T_aa520_row13_col4, #T_aa520_row13_col5, #T_aa520_row13_col6, #T_aa520_row13_col7, #T_aa520_row14_col0, #T_aa520_row14_col1, #T_aa520_row14_col2, #T_aa520_row14_col3, #T_aa520_row14_col4, #T_aa520_row14_col5, #T_aa520_row14_col6, #T_aa520_row14_col7, #T_aa520_row15_col0, #T_aa520_row15_col1, #T_aa520_row15_col2, #T_aa520_row15_col3, #T_aa520_row15_col4, #T_aa520_row15_col5, #T_aa520_row15_col6, #T_aa520_row15_col7 {\n",
       "  text-align: left;\n",
       "}\n",
       "#T_aa520_row0_col1, #T_aa520_row0_col2, #T_aa520_row0_col4, #T_aa520_row0_col6, #T_aa520_row0_col7, #T_aa520_row1_col5, #T_aa520_row3_col5, #T_aa520_row6_col3 {\n",
       "  text-align: left;\n",
       "  background-color: yellow;\n",
       "}\n",
       "#T_aa520_row0_col8, #T_aa520_row1_col8, #T_aa520_row2_col8, #T_aa520_row3_col8, #T_aa520_row4_col8, #T_aa520_row5_col8, #T_aa520_row7_col8, #T_aa520_row8_col8, #T_aa520_row9_col8, #T_aa520_row10_col8, #T_aa520_row11_col8, #T_aa520_row12_col8, #T_aa520_row13_col8, #T_aa520_row14_col8, #T_aa520_row15_col8 {\n",
       "  text-align: left;\n",
       "  background-color: lightgrey;\n",
       "}\n",
       "#T_aa520_row6_col8 {\n",
       "  text-align: left;\n",
       "  background-color: yellow;\n",
       "  background-color: lightgrey;\n",
       "}\n",
       "</style>\n",
       "<table id=\"T_aa520\">\n",
       "  <thead>\n",
       "    <tr>\n",
       "      <th class=\"blank level0\" >&nbsp;</th>\n",
       "      <th id=\"T_aa520_level0_col0\" class=\"col_heading level0 col0\" >Model</th>\n",
       "      <th id=\"T_aa520_level0_col1\" class=\"col_heading level0 col1\" >Accuracy</th>\n",
       "      <th id=\"T_aa520_level0_col2\" class=\"col_heading level0 col2\" >AUC</th>\n",
       "      <th id=\"T_aa520_level0_col3\" class=\"col_heading level0 col3\" >Recall</th>\n",
       "      <th id=\"T_aa520_level0_col4\" class=\"col_heading level0 col4\" >Prec.</th>\n",
       "      <th id=\"T_aa520_level0_col5\" class=\"col_heading level0 col5\" >F1</th>\n",
       "      <th id=\"T_aa520_level0_col6\" class=\"col_heading level0 col6\" >Kappa</th>\n",
       "      <th id=\"T_aa520_level0_col7\" class=\"col_heading level0 col7\" >MCC</th>\n",
       "      <th id=\"T_aa520_level0_col8\" class=\"col_heading level0 col8\" >TT (Sec)</th>\n",
       "    </tr>\n",
       "  </thead>\n",
       "  <tbody>\n",
       "    <tr>\n",
       "      <th id=\"T_aa520_level0_row0\" class=\"row_heading level0 row0\" >catboost</th>\n",
       "      <td id=\"T_aa520_row0_col0\" class=\"data row0 col0\" >CatBoost Classifier</td>\n",
       "      <td id=\"T_aa520_row0_col1\" class=\"data row0 col1\" >0.7809</td>\n",
       "      <td id=\"T_aa520_row0_col2\" class=\"data row0 col2\" >0.8651</td>\n",
       "      <td id=\"T_aa520_row0_col3\" class=\"data row0 col3\" >0.8164</td>\n",
       "      <td id=\"T_aa520_row0_col4\" class=\"data row0 col4\" >0.7201</td>\n",
       "      <td id=\"T_aa520_row0_col5\" class=\"data row0 col5\" >0.7652</td>\n",
       "      <td id=\"T_aa520_row0_col6\" class=\"data row0 col6\" >0.5613</td>\n",
       "      <td id=\"T_aa520_row0_col7\" class=\"data row0 col7\" >0.5652</td>\n",
       "      <td id=\"T_aa520_row0_col8\" class=\"data row0 col8\" >35.8260</td>\n",
       "    </tr>\n",
       "    <tr>\n",
       "      <th id=\"T_aa520_level0_row1\" class=\"row_heading level0 row1\" >lightgbm</th>\n",
       "      <td id=\"T_aa520_row1_col0\" class=\"data row1 col0\" >Light Gradient Boosting Machine</td>\n",
       "      <td id=\"T_aa520_row1_col1\" class=\"data row1 col1\" >0.7795</td>\n",
       "      <td id=\"T_aa520_row1_col2\" class=\"data row1 col2\" >0.8634</td>\n",
       "      <td id=\"T_aa520_row1_col3\" class=\"data row1 col3\" >0.8251</td>\n",
       "      <td id=\"T_aa520_row1_col4\" class=\"data row1 col4\" >0.7148</td>\n",
       "      <td id=\"T_aa520_row1_col5\" class=\"data row1 col5\" >0.7660</td>\n",
       "      <td id=\"T_aa520_row1_col6\" class=\"data row1 col6\" >0.5595</td>\n",
       "      <td id=\"T_aa520_row1_col7\" class=\"data row1 col7\" >0.5647</td>\n",
       "      <td id=\"T_aa520_row1_col8\" class=\"data row1 col8\" >69.2000</td>\n",
       "    </tr>\n",
       "    <tr>\n",
       "      <th id=\"T_aa520_level0_row2\" class=\"row_heading level0 row2\" >xgboost</th>\n",
       "      <td id=\"T_aa520_row2_col0\" class=\"data row2 col0\" >Extreme Gradient Boosting</td>\n",
       "      <td id=\"T_aa520_row2_col1\" class=\"data row2 col1\" >0.7763</td>\n",
       "      <td id=\"T_aa520_row2_col2\" class=\"data row2 col2\" >0.8585</td>\n",
       "      <td id=\"T_aa520_row2_col3\" class=\"data row2 col3\" >0.8086</td>\n",
       "      <td id=\"T_aa520_row2_col4\" class=\"data row2 col4\" >0.7165</td>\n",
       "      <td id=\"T_aa520_row2_col5\" class=\"data row2 col5\" >0.7598</td>\n",
       "      <td id=\"T_aa520_row2_col6\" class=\"data row2 col6\" >0.5520</td>\n",
       "      <td id=\"T_aa520_row2_col7\" class=\"data row2 col7\" >0.5555</td>\n",
       "      <td id=\"T_aa520_row2_col8\" class=\"data row2 col8\" >17.5080</td>\n",
       "    </tr>\n",
       "    <tr>\n",
       "      <th id=\"T_aa520_level0_row3\" class=\"row_heading level0 row3\" >gbc</th>\n",
       "      <td id=\"T_aa520_row3_col0\" class=\"data row3 col0\" >Gradient Boosting Classifier</td>\n",
       "      <td id=\"T_aa520_row3_col1\" class=\"data row3 col1\" >0.7753</td>\n",
       "      <td id=\"T_aa520_row3_col2\" class=\"data row3 col2\" >0.8593</td>\n",
       "      <td id=\"T_aa520_row3_col3\" class=\"data row3 col3\" >0.8406</td>\n",
       "      <td id=\"T_aa520_row3_col4\" class=\"data row3 col4\" >0.7035</td>\n",
       "      <td id=\"T_aa520_row3_col5\" class=\"data row3 col5\" >0.7660</td>\n",
       "      <td id=\"T_aa520_row3_col6\" class=\"data row3 col6\" >0.5532</td>\n",
       "      <td id=\"T_aa520_row3_col7\" class=\"data row3 col7\" >0.5613</td>\n",
       "      <td id=\"T_aa520_row3_col8\" class=\"data row3 col8\" >153.3880</td>\n",
       "    </tr>\n",
       "    <tr>\n",
       "      <th id=\"T_aa520_level0_row4\" class=\"row_heading level0 row4\" >rf</th>\n",
       "      <td id=\"T_aa520_row4_col0\" class=\"data row4 col0\" >Random Forest Classifier</td>\n",
       "      <td id=\"T_aa520_row4_col1\" class=\"data row4 col1\" >0.7738</td>\n",
       "      <td id=\"T_aa520_row4_col2\" class=\"data row4 col2\" >0.8532</td>\n",
       "      <td id=\"T_aa520_row4_col3\" class=\"data row4 col3\" >0.8169</td>\n",
       "      <td id=\"T_aa520_row4_col4\" class=\"data row4 col4\" >0.7098</td>\n",
       "      <td id=\"T_aa520_row4_col5\" class=\"data row4 col5\" >0.7595</td>\n",
       "      <td id=\"T_aa520_row4_col6\" class=\"data row4 col6\" >0.5480</td>\n",
       "      <td id=\"T_aa520_row4_col7\" class=\"data row4 col7\" >0.5528</td>\n",
       "      <td id=\"T_aa520_row4_col8\" class=\"data row4 col8\" >14.0520</td>\n",
       "    </tr>\n",
       "    <tr>\n",
       "      <th id=\"T_aa520_level0_row5\" class=\"row_heading level0 row5\" >et</th>\n",
       "      <td id=\"T_aa520_row5_col0\" class=\"data row5 col0\" >Extra Trees Classifier</td>\n",
       "      <td id=\"T_aa520_row5_col1\" class=\"data row5 col1\" >0.7721</td>\n",
       "      <td id=\"T_aa520_row5_col2\" class=\"data row5 col2\" >0.8534</td>\n",
       "      <td id=\"T_aa520_row5_col3\" class=\"data row5 col3\" >0.8099</td>\n",
       "      <td id=\"T_aa520_row5_col4\" class=\"data row5 col4\" >0.7099</td>\n",
       "      <td id=\"T_aa520_row5_col5\" class=\"data row5 col5\" >0.7566</td>\n",
       "      <td id=\"T_aa520_row5_col6\" class=\"data row5 col6\" >0.5441</td>\n",
       "      <td id=\"T_aa520_row5_col7\" class=\"data row5 col7\" >0.5483</td>\n",
       "      <td id=\"T_aa520_row5_col8\" class=\"data row5 col8\" >14.8380</td>\n",
       "    </tr>\n",
       "    <tr>\n",
       "      <th id=\"T_aa520_level0_row6\" class=\"row_heading level0 row6\" >ridge</th>\n",
       "      <td id=\"T_aa520_row6_col0\" class=\"data row6 col0\" >Ridge Classifier</td>\n",
       "      <td id=\"T_aa520_row6_col1\" class=\"data row6 col1\" >0.7665</td>\n",
       "      <td id=\"T_aa520_row6_col2\" class=\"data row6 col2\" >0.0000</td>\n",
       "      <td id=\"T_aa520_row6_col3\" class=\"data row6 col3\" >0.8491</td>\n",
       "      <td id=\"T_aa520_row6_col4\" class=\"data row6 col4\" >0.6892</td>\n",
       "      <td id=\"T_aa520_row6_col5\" class=\"data row6 col5\" >0.7608</td>\n",
       "      <td id=\"T_aa520_row6_col6\" class=\"data row6 col6\" >0.5375</td>\n",
       "      <td id=\"T_aa520_row6_col7\" class=\"data row6 col7\" >0.5487</td>\n",
       "      <td id=\"T_aa520_row6_col8\" class=\"data row6 col8\" >10.8100</td>\n",
       "    </tr>\n",
       "    <tr>\n",
       "      <th id=\"T_aa520_level0_row7\" class=\"row_heading level0 row7\" >ada</th>\n",
       "      <td id=\"T_aa520_row7_col0\" class=\"data row7 col0\" >Ada Boost Classifier</td>\n",
       "      <td id=\"T_aa520_row7_col1\" class=\"data row7 col1\" >0.7659</td>\n",
       "      <td id=\"T_aa520_row7_col2\" class=\"data row7 col2\" >0.8490</td>\n",
       "      <td id=\"T_aa520_row7_col3\" class=\"data row7 col3\" >0.8352</td>\n",
       "      <td id=\"T_aa520_row7_col4\" class=\"data row7 col4\" >0.6927</td>\n",
       "      <td id=\"T_aa520_row7_col5\" class=\"data row7 col5\" >0.7573</td>\n",
       "      <td id=\"T_aa520_row7_col6\" class=\"data row7 col6\" >0.5349</td>\n",
       "      <td id=\"T_aa520_row7_col7\" class=\"data row7 col7\" >0.5437</td>\n",
       "      <td id=\"T_aa520_row7_col8\" class=\"data row7 col8\" >37.9300</td>\n",
       "    </tr>\n",
       "    <tr>\n",
       "      <th id=\"T_aa520_level0_row8\" class=\"row_heading level0 row8\" >lda</th>\n",
       "      <td id=\"T_aa520_row8_col0\" class=\"data row8 col0\" >Linear Discriminant Analysis</td>\n",
       "      <td id=\"T_aa520_row8_col1\" class=\"data row8 col1\" >0.7654</td>\n",
       "      <td id=\"T_aa520_row8_col2\" class=\"data row8 col2\" >0.8472</td>\n",
       "      <td id=\"T_aa520_row8_col3\" class=\"data row8 col3\" >0.8469</td>\n",
       "      <td id=\"T_aa520_row8_col4\" class=\"data row8 col4\" >0.6884</td>\n",
       "      <td id=\"T_aa520_row8_col5\" class=\"data row8 col5\" >0.7595</td>\n",
       "      <td id=\"T_aa520_row8_col6\" class=\"data row8 col6\" >0.5352</td>\n",
       "      <td id=\"T_aa520_row8_col7\" class=\"data row8 col7\" >0.5462</td>\n",
       "      <td id=\"T_aa520_row8_col8\" class=\"data row8 col8\" >13.3440</td>\n",
       "    </tr>\n",
       "    <tr>\n",
       "      <th id=\"T_aa520_level0_row9\" class=\"row_heading level0 row9\" >lr</th>\n",
       "      <td id=\"T_aa520_row9_col0\" class=\"data row9 col0\" >Logistic Regression</td>\n",
       "      <td id=\"T_aa520_row9_col1\" class=\"data row9 col1\" >0.7642</td>\n",
       "      <td id=\"T_aa520_row9_col2\" class=\"data row9 col2\" >0.8463</td>\n",
       "      <td id=\"T_aa520_row9_col3\" class=\"data row9 col3\" >0.8340</td>\n",
       "      <td id=\"T_aa520_row9_col4\" class=\"data row9 col4\" >0.6909</td>\n",
       "      <td id=\"T_aa520_row9_col5\" class=\"data row9 col5\" >0.7557</td>\n",
       "      <td id=\"T_aa520_row9_col6\" class=\"data row9 col6\" >0.5317</td>\n",
       "      <td id=\"T_aa520_row9_col7\" class=\"data row9 col7\" >0.5405</td>\n",
       "      <td id=\"T_aa520_row9_col8\" class=\"data row9 col8\" >18.6280</td>\n",
       "    </tr>\n",
       "    <tr>\n",
       "      <th id=\"T_aa520_level0_row10\" class=\"row_heading level0 row10\" >svm</th>\n",
       "      <td id=\"T_aa520_row10_col0\" class=\"data row10 col0\" >SVM - Linear Kernel</td>\n",
       "      <td id=\"T_aa520_row10_col1\" class=\"data row10 col1\" >0.7312</td>\n",
       "      <td id=\"T_aa520_row10_col2\" class=\"data row10 col2\" >0.0000</td>\n",
       "      <td id=\"T_aa520_row10_col3\" class=\"data row10 col3\" >0.7128</td>\n",
       "      <td id=\"T_aa520_row10_col4\" class=\"data row10 col4\" >0.6846</td>\n",
       "      <td id=\"T_aa520_row10_col5\" class=\"data row10 col5\" >0.6956</td>\n",
       "      <td id=\"T_aa520_row10_col6\" class=\"data row10 col6\" >0.4553</td>\n",
       "      <td id=\"T_aa520_row10_col7\" class=\"data row10 col7\" >0.4590</td>\n",
       "      <td id=\"T_aa520_row10_col8\" class=\"data row10 col8\" >17.1400</td>\n",
       "    </tr>\n",
       "    <tr>\n",
       "      <th id=\"T_aa520_level0_row11\" class=\"row_heading level0 row11\" >knn</th>\n",
       "      <td id=\"T_aa520_row11_col0\" class=\"data row11 col0\" >K Neighbors Classifier</td>\n",
       "      <td id=\"T_aa520_row11_col1\" class=\"data row11 col1\" >0.7277</td>\n",
       "      <td id=\"T_aa520_row11_col2\" class=\"data row11 col2\" >0.7948</td>\n",
       "      <td id=\"T_aa520_row11_col3\" class=\"data row11 col3\" >0.7699</td>\n",
       "      <td id=\"T_aa520_row11_col4\" class=\"data row11 col4\" >0.6623</td>\n",
       "      <td id=\"T_aa520_row11_col5\" class=\"data row11 col5\" >0.7121</td>\n",
       "      <td id=\"T_aa520_row11_col6\" class=\"data row11 col6\" >0.4565</td>\n",
       "      <td id=\"T_aa520_row11_col7\" class=\"data row11 col7\" >0.4612</td>\n",
       "      <td id=\"T_aa520_row11_col8\" class=\"data row11 col8\" >19.1960</td>\n",
       "    </tr>\n",
       "    <tr>\n",
       "      <th id=\"T_aa520_level0_row12\" class=\"row_heading level0 row12\" >qda</th>\n",
       "      <td id=\"T_aa520_row12_col0\" class=\"data row12 col0\" >Quadratic Discriminant Analysis</td>\n",
       "      <td id=\"T_aa520_row12_col1\" class=\"data row12 col1\" >0.7238</td>\n",
       "      <td id=\"T_aa520_row12_col2\" class=\"data row12 col2\" >0.7855</td>\n",
       "      <td id=\"T_aa520_row12_col3\" class=\"data row12 col3\" >0.8112</td>\n",
       "      <td id=\"T_aa520_row12_col4\" class=\"data row12 col4\" >0.6491</td>\n",
       "      <td id=\"T_aa520_row12_col5\" class=\"data row12 col5\" >0.7168</td>\n",
       "      <td id=\"T_aa520_row12_col6\" class=\"data row12 col6\" >0.4537</td>\n",
       "      <td id=\"T_aa520_row12_col7\" class=\"data row12 col7\" >0.4719</td>\n",
       "      <td id=\"T_aa520_row12_col8\" class=\"data row12 col8\" >12.7140</td>\n",
       "    </tr>\n",
       "    <tr>\n",
       "      <th id=\"T_aa520_level0_row13\" class=\"row_heading level0 row13\" >nb</th>\n",
       "      <td id=\"T_aa520_row13_col0\" class=\"data row13 col0\" >Naive Bayes</td>\n",
       "      <td id=\"T_aa520_row13_col1\" class=\"data row13 col1\" >0.7040</td>\n",
       "      <td id=\"T_aa520_row13_col2\" class=\"data row13 col2\" >0.7758</td>\n",
       "      <td id=\"T_aa520_row13_col3\" class=\"data row13 col3\" >0.6161</td>\n",
       "      <td id=\"T_aa520_row13_col4\" class=\"data row13 col4\" >0.6779</td>\n",
       "      <td id=\"T_aa520_row13_col5\" class=\"data row13 col5\" >0.6454</td>\n",
       "      <td id=\"T_aa520_row13_col6\" class=\"data row13 col6\" >0.3924</td>\n",
       "      <td id=\"T_aa520_row13_col7\" class=\"data row13 col7\" >0.3938</td>\n",
       "      <td id=\"T_aa520_row13_col8\" class=\"data row13 col8\" >11.3820</td>\n",
       "    </tr>\n",
       "    <tr>\n",
       "      <th id=\"T_aa520_level0_row14\" class=\"row_heading level0 row14\" >dt</th>\n",
       "      <td id=\"T_aa520_row14_col0\" class=\"data row14 col0\" >Decision Tree Classifier</td>\n",
       "      <td id=\"T_aa520_row14_col1\" class=\"data row14 col1\" >0.6924</td>\n",
       "      <td id=\"T_aa520_row14_col2\" class=\"data row14 col2\" >0.6882</td>\n",
       "      <td id=\"T_aa520_row14_col3\" class=\"data row14 col3\" >0.6548</td>\n",
       "      <td id=\"T_aa520_row14_col4\" class=\"data row14 col4\" >0.6465</td>\n",
       "      <td id=\"T_aa520_row14_col5\" class=\"data row14 col5\" >0.6506</td>\n",
       "      <td id=\"T_aa520_row14_col6\" class=\"data row14 col6\" >0.3760</td>\n",
       "      <td id=\"T_aa520_row14_col7\" class=\"data row14 col7\" >0.3760</td>\n",
       "      <td id=\"T_aa520_row14_col8\" class=\"data row14 col8\" >23.7100</td>\n",
       "    </tr>\n",
       "    <tr>\n",
       "      <th id=\"T_aa520_level0_row15\" class=\"row_heading level0 row15\" >dummy</th>\n",
       "      <td id=\"T_aa520_row15_col0\" class=\"data row15 col0\" >Dummy Classifier</td>\n",
       "      <td id=\"T_aa520_row15_col1\" class=\"data row15 col1\" >0.5626</td>\n",
       "      <td id=\"T_aa520_row15_col2\" class=\"data row15 col2\" >0.5000</td>\n",
       "      <td id=\"T_aa520_row15_col3\" class=\"data row15 col3\" >0.0000</td>\n",
       "      <td id=\"T_aa520_row15_col4\" class=\"data row15 col4\" >0.0000</td>\n",
       "      <td id=\"T_aa520_row15_col5\" class=\"data row15 col5\" >0.0000</td>\n",
       "      <td id=\"T_aa520_row15_col6\" class=\"data row15 col6\" >0.0000</td>\n",
       "      <td id=\"T_aa520_row15_col7\" class=\"data row15 col7\" >0.0000</td>\n",
       "      <td id=\"T_aa520_row15_col8\" class=\"data row15 col8\" >11.0020</td>\n",
       "    </tr>\n",
       "  </tbody>\n",
       "</table>\n"
      ],
      "text/plain": [
       "<pandas.io.formats.style.Styler at 0x7f2a1a300100>"
      ]
     },
     "metadata": {},
     "output_type": "display_data"
    },
    {
     "data": {
      "text/html": [],
      "text/plain": [
       "<IPython.core.display.HTML object>"
      ]
     },
     "metadata": {},
     "output_type": "display_data"
    }
   ],
   "source": [
    "best = compare_models()"
   ]
  },
  {
   "cell_type": "markdown",
   "metadata": {},
   "source": [
    "`Catboost` is the best model. Proceed with it."
   ]
  },
  {
   "cell_type": "markdown",
   "metadata": {},
   "source": [
    "#### Tune the best model"
   ]
  },
  {
   "cell_type": "code",
   "execution_count": 10,
   "metadata": {},
   "outputs": [
    {
     "data": {
      "text/html": [],
      "text/plain": [
       "<IPython.core.display.HTML object>"
      ]
     },
     "metadata": {},
     "output_type": "display_data"
    },
    {
     "data": {
      "text/html": [
       "<style type=\"text/css\">\n",
       "#T_c1ffd_row5_col0, #T_c1ffd_row5_col1, #T_c1ffd_row5_col2, #T_c1ffd_row5_col3, #T_c1ffd_row5_col4, #T_c1ffd_row5_col5, #T_c1ffd_row5_col6 {\n",
       "  background: yellow;\n",
       "}\n",
       "</style>\n",
       "<table id=\"T_c1ffd\">\n",
       "  <thead>\n",
       "    <tr>\n",
       "      <th class=\"blank level0\" >&nbsp;</th>\n",
       "      <th id=\"T_c1ffd_level0_col0\" class=\"col_heading level0 col0\" >Accuracy</th>\n",
       "      <th id=\"T_c1ffd_level0_col1\" class=\"col_heading level0 col1\" >AUC</th>\n",
       "      <th id=\"T_c1ffd_level0_col2\" class=\"col_heading level0 col2\" >Recall</th>\n",
       "      <th id=\"T_c1ffd_level0_col3\" class=\"col_heading level0 col3\" >Prec.</th>\n",
       "      <th id=\"T_c1ffd_level0_col4\" class=\"col_heading level0 col4\" >F1</th>\n",
       "      <th id=\"T_c1ffd_level0_col5\" class=\"col_heading level0 col5\" >Kappa</th>\n",
       "      <th id=\"T_c1ffd_level0_col6\" class=\"col_heading level0 col6\" >MCC</th>\n",
       "    </tr>\n",
       "    <tr>\n",
       "      <th class=\"index_name level0\" >Fold</th>\n",
       "      <th class=\"blank col0\" >&nbsp;</th>\n",
       "      <th class=\"blank col1\" >&nbsp;</th>\n",
       "      <th class=\"blank col2\" >&nbsp;</th>\n",
       "      <th class=\"blank col3\" >&nbsp;</th>\n",
       "      <th class=\"blank col4\" >&nbsp;</th>\n",
       "      <th class=\"blank col5\" >&nbsp;</th>\n",
       "      <th class=\"blank col6\" >&nbsp;</th>\n",
       "    </tr>\n",
       "  </thead>\n",
       "  <tbody>\n",
       "    <tr>\n",
       "      <th id=\"T_c1ffd_level0_row0\" class=\"row_heading level0 row0\" >0</th>\n",
       "      <td id=\"T_c1ffd_row0_col0\" class=\"data row0 col0\" >0.7827</td>\n",
       "      <td id=\"T_c1ffd_row0_col1\" class=\"data row0 col1\" >0.8660</td>\n",
       "      <td id=\"T_c1ffd_row0_col2\" class=\"data row0 col2\" >0.8225</td>\n",
       "      <td id=\"T_c1ffd_row0_col3\" class=\"data row0 col3\" >0.7203</td>\n",
       "      <td id=\"T_c1ffd_row0_col4\" class=\"data row0 col4\" >0.7680</td>\n",
       "      <td id=\"T_c1ffd_row0_col5\" class=\"data row0 col5\" >0.5653</td>\n",
       "      <td id=\"T_c1ffd_row0_col6\" class=\"data row0 col6\" >0.5697</td>\n",
       "    </tr>\n",
       "    <tr>\n",
       "      <th id=\"T_c1ffd_level0_row1\" class=\"row_heading level0 row1\" >1</th>\n",
       "      <td id=\"T_c1ffd_row1_col0\" class=\"data row1 col0\" >0.7811</td>\n",
       "      <td id=\"T_c1ffd_row1_col1\" class=\"data row1 col1\" >0.8625</td>\n",
       "      <td id=\"T_c1ffd_row1_col2\" class=\"data row1 col2\" >0.8206</td>\n",
       "      <td id=\"T_c1ffd_row1_col3\" class=\"data row1 col3\" >0.7187</td>\n",
       "      <td id=\"T_c1ffd_row1_col4\" class=\"data row1 col4\" >0.7663</td>\n",
       "      <td id=\"T_c1ffd_row1_col5\" class=\"data row1 col5\" >0.5621</td>\n",
       "      <td id=\"T_c1ffd_row1_col6\" class=\"data row1 col6\" >0.5665</td>\n",
       "    </tr>\n",
       "    <tr>\n",
       "      <th id=\"T_c1ffd_level0_row2\" class=\"row_heading level0 row2\" >2</th>\n",
       "      <td id=\"T_c1ffd_row2_col0\" class=\"data row2 col0\" >0.7807</td>\n",
       "      <td id=\"T_c1ffd_row2_col1\" class=\"data row2 col1\" >0.8650</td>\n",
       "      <td id=\"T_c1ffd_row2_col2\" class=\"data row2 col2\" >0.8229</td>\n",
       "      <td id=\"T_c1ffd_row2_col3\" class=\"data row2 col3\" >0.7173</td>\n",
       "      <td id=\"T_c1ffd_row2_col4\" class=\"data row2 col4\" >0.7665</td>\n",
       "      <td id=\"T_c1ffd_row2_col5\" class=\"data row2 col5\" >0.5615</td>\n",
       "      <td id=\"T_c1ffd_row2_col6\" class=\"data row2 col6\" >0.5662</td>\n",
       "    </tr>\n",
       "    <tr>\n",
       "      <th id=\"T_c1ffd_level0_row3\" class=\"row_heading level0 row3\" >3</th>\n",
       "      <td id=\"T_c1ffd_row3_col0\" class=\"data row3 col0\" >0.7793</td>\n",
       "      <td id=\"T_c1ffd_row3_col1\" class=\"data row3 col1\" >0.8635</td>\n",
       "      <td id=\"T_c1ffd_row3_col2\" class=\"data row3 col2\" >0.8269</td>\n",
       "      <td id=\"T_c1ffd_row3_col3\" class=\"data row3 col3\" >0.7139</td>\n",
       "      <td id=\"T_c1ffd_row3_col4\" class=\"data row3 col4\" >0.7662</td>\n",
       "      <td id=\"T_c1ffd_row3_col5\" class=\"data row3 col5\" >0.5594</td>\n",
       "      <td id=\"T_c1ffd_row3_col6\" class=\"data row3 col6\" >0.5648</td>\n",
       "    </tr>\n",
       "    <tr>\n",
       "      <th id=\"T_c1ffd_level0_row4\" class=\"row_heading level0 row4\" >4</th>\n",
       "      <td id=\"T_c1ffd_row4_col0\" class=\"data row4 col0\" >0.7756</td>\n",
       "      <td id=\"T_c1ffd_row4_col1\" class=\"data row4 col1\" >0.8578</td>\n",
       "      <td id=\"T_c1ffd_row4_col2\" class=\"data row4 col2\" >0.8185</td>\n",
       "      <td id=\"T_c1ffd_row4_col3\" class=\"data row4 col3\" >0.7117</td>\n",
       "      <td id=\"T_c1ffd_row4_col4\" class=\"data row4 col4\" >0.7614</td>\n",
       "      <td id=\"T_c1ffd_row4_col5\" class=\"data row4 col5\" >0.5515</td>\n",
       "      <td id=\"T_c1ffd_row4_col6\" class=\"data row4 col6\" >0.5563</td>\n",
       "    </tr>\n",
       "    <tr>\n",
       "      <th id=\"T_c1ffd_level0_row5\" class=\"row_heading level0 row5\" >Mean</th>\n",
       "      <td id=\"T_c1ffd_row5_col0\" class=\"data row5 col0\" >0.7799</td>\n",
       "      <td id=\"T_c1ffd_row5_col1\" class=\"data row5 col1\" >0.8630</td>\n",
       "      <td id=\"T_c1ffd_row5_col2\" class=\"data row5 col2\" >0.8223</td>\n",
       "      <td id=\"T_c1ffd_row5_col3\" class=\"data row5 col3\" >0.7164</td>\n",
       "      <td id=\"T_c1ffd_row5_col4\" class=\"data row5 col4\" >0.7657</td>\n",
       "      <td id=\"T_c1ffd_row5_col5\" class=\"data row5 col5\" >0.5600</td>\n",
       "      <td id=\"T_c1ffd_row5_col6\" class=\"data row5 col6\" >0.5647</td>\n",
       "    </tr>\n",
       "    <tr>\n",
       "      <th id=\"T_c1ffd_level0_row6\" class=\"row_heading level0 row6\" >Std</th>\n",
       "      <td id=\"T_c1ffd_row6_col0\" class=\"data row6 col0\" >0.0024</td>\n",
       "      <td id=\"T_c1ffd_row6_col1\" class=\"data row6 col1\" >0.0029</td>\n",
       "      <td id=\"T_c1ffd_row6_col2\" class=\"data row6 col2\" >0.0028</td>\n",
       "      <td id=\"T_c1ffd_row6_col3\" class=\"data row6 col3\" >0.0032</td>\n",
       "      <td id=\"T_c1ffd_row6_col4\" class=\"data row6 col4\" >0.0023</td>\n",
       "      <td id=\"T_c1ffd_row6_col5\" class=\"data row6 col5\" >0.0046</td>\n",
       "      <td id=\"T_c1ffd_row6_col6\" class=\"data row6 col6\" >0.0045</td>\n",
       "    </tr>\n",
       "  </tbody>\n",
       "</table>\n"
      ],
      "text/plain": [
       "<pandas.io.formats.style.Styler at 0x7f2a1a3c36a0>"
      ]
     },
     "metadata": {},
     "output_type": "display_data"
    },
    {
     "data": {
      "text/html": [],
      "text/plain": [
       "<IPython.core.display.HTML object>"
      ]
     },
     "metadata": {},
     "output_type": "display_data"
    },
    {
     "name": "stdout",
     "output_type": "stream",
     "text": [
      "Fitting 5 folds for each of 10 candidates, totalling 50 fits\n",
      "Original model was better than the tuned model, hence it will be returned. NOTE: The display metrics are for the tuned model (not the original one).\n"
     ]
    }
   ],
   "source": [
    "tuned_best = tune_model(best, search_library = 'scikit-learn')"
   ]
  },
  {
   "cell_type": "code",
   "execution_count": 11,
   "metadata": {},
   "outputs": [
    {
     "name": "stdout",
     "output_type": "stream",
     "text": [
      "<catboost.core.CatBoostClassifier object at 0x7f2a1a3c2fb0>\n"
     ]
    }
   ],
   "source": [
    "print(tuned_best)"
   ]
  },
  {
   "cell_type": "code",
   "execution_count": 12,
   "metadata": {},
   "outputs": [
    {
     "data": {
      "text/html": [],
      "text/plain": [
       "<IPython.core.display.HTML object>"
      ]
     },
     "metadata": {},
     "output_type": "display_data"
    },
    {
     "data": {
      "image/png": "[encoded data removed]",
      "text/plain": [
       "<Figure size 800x550 with 1 Axes>"
      ]
     },
     "metadata": {},
     "output_type": "display_data"
    }
   ],
   "source": [
    "plot_model(tuned_best)"
   ]
  },
  {
   "cell_type": "markdown",
   "metadata": {},
   "source": [
    "#### Top 10 important features"
   ]
  },
  {
   "cell_type": "code",
   "execution_count": 13,
   "metadata": {},
   "outputs": [
    {
     "data": {
      "text/html": [],
      "text/plain": [
       "<IPython.core.display.HTML object>"
      ]
     },
     "metadata": {},
     "output_type": "display_data"
    },
    {
     "data": {
      "image/png": "[encoded data removed]",
      "text/plain": [
       "<Figure size 800x500 with 1 Axes>"
      ]
     },
     "metadata": {},
     "output_type": "display_data"
    }
   ],
   "source": [
    "plot_model(tuned_best, plot = 'feature')"
   ]
  },
  {
   "cell_type": "markdown",
   "metadata": {},
   "source": [
    "#### Here is the confusion matrix\n",
    "The model is good enough."
   ]
  },
  {
   "cell_type": "code",
   "execution_count": 14,
   "metadata": {},
   "outputs": [
    {
     "data": {
      "text/html": [],
      "text/plain": [
       "<IPython.core.display.HTML object>"
      ]
     },
     "metadata": {},
     "output_type": "display_data"
    },
    {
     "data": {
      "image/png": "[encoded data removed]",
      "text/plain": [
       "<Figure size 800x550 with 1 Axes>"
      ]
     },
     "metadata": {},
     "output_type": "display_data"
    }
   ],
   "source": [
    "plot_model(tuned_best, plot = 'confusion_matrix', plot_kwargs = {'percent' : True})"
   ]
  },
  {
   "cell_type": "markdown",
   "metadata": {},
   "source": [
    "#### Deploy the model as API in a docker container"
   ]
  },
  {
   "cell_type": "code",
   "execution_count": 16,
   "metadata": {},
   "outputs": [
    {
     "name": "stdout",
     "output_type": "stream",
     "text": [
      "API successfully created. This function only creates a POST API, it doesn't run it automatically. To run your API, please run this command --> !python smoking_clf_api.py\n"
     ]
    }
   ],
   "source": [
    "# create api\n",
    "create_api(tuned_best, 'smoking_clf_api')\n",
    "\n"
   ]
  },
  {
   "cell_type": "code",
   "execution_count": 17,
   "metadata": {},
   "outputs": [
    {
     "name": "stdout",
     "output_type": "stream",
     "text": [
      "Writing requirements.txt\n",
      "Writing Dockerfile\n",
      "Dockerfile and requirements.txt successfully created.\n",
      "    To build image you have to run --> !docker image build -f \"Dockerfile\" -t IMAGE_NAME:IMAGE_TAG .\n",
      "            \n"
     ]
    }
   ],
   "source": [
    "# create docker\n",
    "create_docker('smoking_clf_api')"
   ]
  }
 ],
 "metadata": {
  "kernelspec": {
   "display_name": "Python 3 (ipykernel)",
   "language": "python",
   "name": "python3"
  },
  "language_info": {
   "codemirror_mode": {
    "name": "ipython",
    "version": 3
   },
   "file_extension": ".py",
   "mimetype": "text/x-python",
   "name": "python",
   "nbconvert_exporter": "python",
   "pygments_lexer": "ipython3",
   "version": "3.10.12"
  }
 },
 "nbformat": 4,
 "nbformat_minor": 4
}
